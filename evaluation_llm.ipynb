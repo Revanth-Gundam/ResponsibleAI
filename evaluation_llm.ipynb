{
 "cells": [
  {
   "cell_type": "markdown",
   "metadata": {},
   "source": [
    "# CLAUDE BASED EVALUATION"
   ]
  },
  {
   "cell_type": "code",
   "execution_count": 1,
   "metadata": {},
   "outputs": [],
   "source": [
    "import json\n",
    "import os"
   ]
  },
  {
   "cell_type": "code",
   "execution_count": 2,
   "metadata": {},
   "outputs": [],
   "source": [
    "# Define the Results:\n",
    "# Mistral Results:\n",
    "Results_Mistral= [['Contradiction', 'Contradiction'], ['Contradiction'], ['Contradiction'], ['Neutral', 'Neutral'], ['Contradiction', 'Entailment', 'Neutral'], ['Contradiction', 'Contradiction'], ['Contradiction'], ['Neutral', 'Contradiction', 'Contradiction'], ['Contradiction'], ['Contradiction', 'Entailment'], ['Contradiction', 'Entailment', 'Contradiction'], ['Entailment', 'Contradiction'], ['Contradiction', 'Contradiction'], ['Contradiction', 'Contradiction'], ['Contradiction', 'Entailment'], ['Entailment', 'Entailment', 'Entailment', 'Entailment'], ['Entailment', 'Entailment'], ['Neutral', 'Entailment', 'Neutral'], ['Entailment', 'Entailment'], ['Contradiction', 'Contradiction', 'Entailment'], ['Contradiction'], ['Contradiction', 'Entailment'], ['Entailment', 'Entailment', 'Entailment', 'Entailment', 'Contradiction'], ['Contradiction'], ['Entailment', 'Contradiction', 'Neutral'], ['Neutral', 'Neutral', 'Neutral', 'Neutral', 'Contradiction'], ['Entailment', 'Contradiction'], ['Neutral', 'Contradiction'], ['Contradiction'], ['Contradiction'], ['Contradiction'], ['Entailment', 'Contradiction', 'Contradiction'], ['Contradiction', 'Entailment', 'Contradiction'], ['Contradiction', 'Contradiction'], ['Contradiction', 'Contradiction'], ['Contradiction'], ['Contradiction', 'Entailment'], ['Contradiction'], ['Contradiction'], ['Contradiction'], ['Neutral', 'Contradiction', 'Neutral', 'Neutral', 'Neutral', 'Neutral', 'Neutral', 'Contradiction', 'Neutral', 'Contradiction'], ['Neutral', 'Contradiction'], ['Neutral', 'Neutral', 'Neutral', 'Neutral'], ['Entailment'], ['Contradiction'], ['Entailment', 'Entailment', 'Entailment'], ['Contradiction', 'Entailment', 'Contradiction', 'Entailment'], ['Entailment'], ['Contradiction'], ['Entailment', 'Neutral'], ['Contradiction', 'Contradiction'], ['Entailment'], ['Contradiction', 'Contradiction', 'Contradiction'], ['Entailment', 'Contradiction', 'Contradiction', 'Contradiction', 'Contradiction'], ['Entailment', 'Entailment'], ['Entailment'], ['Entailment'], ['Entailment', 'Entailment'], ['Contradiction', 'Entailment'], ['Entailment', 'Entailment', 'Entailment', 'Entailment', 'Contradiction'], ['Entailment', 'Entailment'], ['Contradiction', 'Contradiction'], ['Entailment', 'Entailment', 'Entailment'], ['Contradiction'], ['Entailment', 'Entailment'], ['Entailment'], ['Entailment', 'Neutral'], ['Contradiction', 'Neutral'], ['Entailment', 'Entailment', 'Entailment', 'Entailment', 'Entailment', 'Entailment', 'Entailment'], ['Contradiction'], ['Entailment'], ['Entailment'], ['Entailment', 'Entailment']]\n",
    "Results_Falcon = [['Contradiction', 'Contradiction'], ['Contradiction'], ['Contradiction'], ['Neutral', 'Neutral'], ['Contradiction', 'Entailment', 'Neutral'], ['Contradiction', 'Contradiction'], ['Contradiction'], ['Neutral', 'Contradiction', 'Contradiction'], ['Contradiction'], ['Contradiction', 'Entailment'], ['Contradiction', 'Entailment', 'Contradiction'], ['Entailment', 'Contradiction'], ['Contradiction', 'Contradiction'], ['Contradiction', 'Contradiction'], ['Contradiction', 'Entailment'], ['Entailment', 'Entailment', 'Entailment', 'Entailment'], ['Entailment', 'Entailment'], ['Neutral', 'Entailment', 'Neutral'], ['Entailment', 'Entailment'], ['Contradiction', 'Contradiction', 'Entailment'], ['Contradiction'], ['Contradiction', 'Entailment'], ['Entailment', 'Entailment', 'Entailment', 'Entailment', 'Contradiction'], ['Contradiction'], ['Entailment', 'Contradiction', 'Neutral'], ['Neutral', 'Neutral', 'Neutral', 'Neutral', 'Contradiction'], ['Entailment', 'Contradiction'], ['Neutral', 'Contradiction'], ['Contradiction'], ['Contradiction'], ['Contradiction'], ['Entailment', 'Contradiction', 'Contradiction'], ['Contradiction', 'Entailment', 'Contradiction'], ['Contradiction', 'Contradiction'], ['Contradiction', 'Contradiction'], ['Contradiction'], ['Contradiction', 'Entailment'], ['Contradiction'], ['Contradiction'], ['Contradiction'], ['Neutral', 'Contradiction', 'Neutral', 'Neutral', 'Neutral', 'Neutral', 'Neutral', 'Contradiction', 'Neutral', 'Contradiction'], ['Neutral', 'Contradiction'], ['Neutral', 'Neutral', 'Neutral', 'Neutral'], ['Entailment'], ['Contradiction'], ['Entailment', 'Entailment', 'Entailment'], ['Contradiction', 'Entailment', 'Contradiction', 'Entailment'], ['Entailment'], ['Contradiction'], ['Entailment', 'Neutral'], ['Contradiction', 'Contradiction'], ['Entailment'],['Contradiction', 'Contradiction', 'Contradiction'], ['Entailment', 'Contradiction', 'Contradiction', 'Contradiction', 'Contradiction'], ['Entailment', 'Entailment'], ['Entailment'], ['Entailment'], ['Entailment', 'Entailment'], ['Contradiction', 'Entailment'], ['Entailment', 'Entailment', 'Entailment', 'Entailment', 'Contradiction'], ['Entailment', 'Entailment'], ['Contradiction', 'Contradiction'], ['Entailment', 'Entailment', 'Entailment'], ['Contradiction'], ['Entailment', 'Entailment'], ['Entailment'], ['Entailment', 'Neutral'], ['Contradiction', 'Neutral'], ['Entailment', 'Entailment', 'Entailment', 'Entailment', 'Entailment', 'Entailment', 'Entailment'], ['Contradiction'], ['Entailment'], ['Entailment'], ['Entailment', 'Entailment']]"
   ]
  },
  {
   "cell_type": "code",
   "execution_count": 3,
   "metadata": {},
   "outputs": [
    {
     "name": "stdout",
     "output_type": "stream",
     "text": [
      "Length of the Results:  73\n"
     ]
    }
   ],
   "source": [
    "# Length of the Results:\n",
    "model_outputs = len(Results_Falcon)\n",
    "print(\"Length of the Results: \", model_outputs)"
   ]
  },
  {
   "cell_type": "code",
   "execution_count": 4,
   "metadata": {},
   "outputs": [],
   "source": [
    "# Load two files:\n",
    "human_outputs = json.load(open('/Users/venkatakesavvenna/Sem6/RSAI/Mid_Project/dataset/human_annotations/zero_context/nq_falcon_40B_instruct_answers.json'))"
   ]
  },
  {
   "cell_type": "code",
   "execution_count": 5,
   "metadata": {},
   "outputs": [
    {
     "name": "stdout",
     "output_type": "stream",
     "text": [
      "Count:  0\n"
     ]
    }
   ],
   "source": [
    "# Print the keys\n",
    "count = 0\n",
    "\n",
    "filtered_human_outputs = []\n",
    "\n",
    "for human_output in human_outputs:\n",
    "    if len(human_output[\"claude2_response_kg\"]):\n",
    "        filtered_human_outputs.append(human_output)\n",
    "\n",
    "print(\"Count: \", count)"
   ]
  },
  {
   "cell_type": "code",
   "execution_count": 6,
   "metadata": {},
   "outputs": [
    {
     "name": "stdout",
     "output_type": "stream",
     "text": [
      "[[0, ['Contradiction', 'Contradiction'], ['Contradiction', 'Contradiction']], [0, ['Contradiction'], []], [0, ['Contradiction'], []], [0, ['Neutral', 'Neutral'], ['Contradiction']], [0, ['Contradiction', 'Entailment', 'Neutral'], []], [0, ['Contradiction', 'Contradiction'], ['Contradiction']], [0, ['Contradiction'], ['Neutral', 'Neutral']], [0, ['Neutral', 'Contradiction', 'Contradiction'], ['Contradiction', 'Entailment', 'Neutral']], [0, ['Contradiction'], []], [0, ['Contradiction', 'Entailment'], ['Contradiction', 'Neutral']], [0, ['Contradiction', 'Entailment', 'Contradiction'], []], [0, ['Entailment', 'Contradiction'], ['Contradiction']], [0, ['Contradiction', 'Contradiction'], ['Entailment', 'Neutral', 'Contradiction']], [0, ['Contradiction', 'Contradiction'], ['Contradiction']], [0, ['Contradiction', 'Entailment'], ['Contradiction', 'Entailment']], [0, ['Entailment', 'Entailment', 'Entailment', 'Entailment'], []], [0, ['Entailment', 'Entailment'], ['Contradiction', 'Entailment', 'Contradiction']], [0, ['Neutral', 'Entailment', 'Neutral'], []], [0, ['Entailment', 'Entailment'], ['Entailment', 'Contradiction']], [0, ['Contradiction', 'Contradiction', 'Entailment'], ['Contradiction', 'Contradiction']], [0, ['Contradiction'], []], [0, ['Contradiction', 'Entailment'], ['Contradiction', 'Entailment']], [0, ['Entailment', 'Entailment', 'Entailment', 'Entailment', 'Contradiction'], ['Contradiction', 'Entailment']], [0, ['Contradiction'], ['Entailment', 'Entailment', 'Contradiction', 'Entailment']], [0, ['Entailment', 'Contradiction', 'Neutral'], ['Entailment', 'Entailment']], [0, ['Neutral', 'Neutral', 'Neutral', 'Neutral', 'Contradiction'], []], [0, ['Entailment', 'Contradiction'], ['Neutral', 'Entailment', 'Entailment']], [0, ['Neutral', 'Contradiction'], []], [0, ['Contradiction'], []], [0, ['Contradiction'], ['Entailment', 'Entailment']], [0, ['Contradiction'], []], [0, ['Entailment', 'Contradiction', 'Contradiction'], ['Contradiction', 'Contradiction', 'Entailment']], [0, ['Contradiction', 'Entailment', 'Contradiction'], ['Contradiction']], [0, ['Contradiction', 'Contradiction'], ['Entailment', 'Entailment']], [0, ['Contradiction', 'Contradiction'], ['Entailment', 'Entailment', 'Entailment', 'Entailment', 'Contradiction']], [0, ['Contradiction'], ['Contradiction']], [0, ['Contradiction', 'Entailment'], ['Entailment', 'Contradiction', 'Neutral']], [0, ['Contradiction'], ['Contradiction', 'Contradiction', 'Contradiction', 'Contradiction', 'Contradiction']], [0, ['Contradiction'], []], [0, ['Contradiction'], ['Entailment', 'Contradiction']], [0, ['Neutral', 'Contradiction', 'Neutral', 'Neutral', 'Neutral', 'Neutral', 'Neutral', 'Contradiction', 'Neutral', 'Contradiction'], ['Neutral', 'Contradiction']], [0, ['Neutral', 'Contradiction'], ['Contradiction']], [0, ['Neutral', 'Neutral', 'Neutral', 'Neutral'], ['Contradiction']], [0, ['Entailment'], ['Contradiction']], [0, ['Contradiction'], ['Entailment', 'Contradiction', 'Contradiction']], [0, ['Entailment', 'Entailment', 'Entailment'], ['Neutral', 'Neutral', 'Neutral']], [0, ['Contradiction', 'Entailment', 'Contradiction', 'Entailment'], []], [0, ['Entailment'], []], [0, ['Contradiction'], ['Contradiction', 'Contradiction']], [0, ['Entailment', 'Neutral'], ['Contradiction', 'Contradiction']], [0, ['Contradiction', 'Contradiction'], ['Contradiction']], [0, ['Entailment'], []], [0, ['Contradiction', 'Contradiction', 'Contradiction'], []], [0, ['Entailment', 'Contradiction', 'Contradiction', 'Contradiction', 'Contradiction'], []], [0, ['Entailment', 'Entailment'], ['Contradiction', 'Entailment']], [0, ['Entailment'], ['Contradiction']], [0, ['Entailment'], ['Entailment']], [0, ['Entailment', 'Entailment'], ['Neutral']], [0, ['Contradiction', 'Entailment'], []], [0, ['Entailment', 'Entailment', 'Entailment', 'Entailment', 'Contradiction'], []], [0, ['Entailment', 'Entailment'], ['Neutral', 'Neutral', 'Neutral', 'Neutral', 'Neutral', 'Neutral', 'Neutral', 'Neutral', 'Neutral', 'Neutral']], [0, ['Contradiction', 'Contradiction'], ['Neutral', 'Neutral']], [0, ['Entailment', 'Entailment', 'Entailment'], ['Neutral', 'Neutral', 'Neutral', 'Neutral']], [0, ['Contradiction'], []], [0, ['Entailment', 'Entailment'], ['Entailment']], [0, ['Entailment'], ['Contradiction']], [0, ['Entailment', 'Neutral'], []], [0, ['Contradiction', 'Neutral'], []], [0, ['Entailment', 'Entailment', 'Entailment', 'Entailment', 'Entailment', 'Entailment', 'Entailment'], ['Entailment', 'Entailment', 'Entailment']], [0, ['Contradiction'], ['Contradiction', 'Entailment', 'Contradiction', 'Entailment']], [0, ['Entailment'], ['Entailment']], [0, ['Entailment'], ['Contradiction']], [0, ['Entailment', 'Entailment'], []]]\n"
     ]
    }
   ],
   "source": [
    "# Make an array of the form [triplet, model_output, human_output]\n",
    "final_array = []\n",
    "\n",
    "# Check the ids, that are common in both the files\n",
    "for i in range(model_outputs):\n",
    "    final_array.append([0, Results_Mistral[i], [triplets[\"human_label\"] for triplets in human_outputs[i][\"claude2_response_kg\"]]])\n",
    "\n",
    "print(final_array)"
   ]
  },
  {
   "cell_type": "code",
   "execution_count": 7,
   "metadata": {},
   "outputs": [
    {
     "name": "stdout",
     "output_type": "stream",
     "text": [
      "Confusion Matrix:\n",
      "[[ 1.  0.  5.]\n",
      " [11. 13. 12.]\n",
      " [ 5. 14. 17.]]\n",
      "\n",
      "Accuracy: 0.3974358974358974\n",
      "\n",
      "Category: Neutral\n",
      "Precision: 0.058823529411764705\n",
      "Recall: 0.16666666666666666\n",
      "F1-score: 0.08695652173913045\n",
      "\n",
      "Category: Entailment\n",
      "Precision: 0.48148148148148145\n",
      "Recall: 0.3611111111111111\n",
      "F1-score: 0.4126984126984127\n",
      "\n",
      "Category: Contradiction\n",
      "Precision: 0.5\n",
      "Recall: 0.4722222222222222\n",
      "F1-score: 0.4857142857142857\n"
     ]
    }
   ],
   "source": [
    "from sklearn.metrics import confusion_matrix\n",
    "import numpy as np\n",
    "\n",
    "# Categories\n",
    "categories = ['Neutral', 'Entailment', 'Contradiction']\n",
    "\n",
    "# Initialize confusion matrix\n",
    "conf_matrix = np.zeros((len(categories), len(categories)))\n",
    "\n",
    "# Count occurrences of each combination of model and human outputs\n",
    "for entry in final_array:\n",
    "    model_outputs = entry[1]\n",
    "    human_outputs = entry[2]\n",
    "\n",
    "    for model_output, human_output in zip(model_outputs, human_outputs):\n",
    "        # Get indices of categories\n",
    "        model_index = categories.index(model_output)\n",
    "        human_index = categories.index(human_output)\n",
    "\n",
    "        # Update confusion matrix\n",
    "        conf_matrix[model_index][human_index] += 1\n",
    "\n",
    "# Print confusion matrix\n",
    "print(\"Confusion Matrix:\")\n",
    "print(conf_matrix)\n",
    "\n",
    "# Calculate accuracy\n",
    "accuracy = np.trace(conf_matrix) / np.sum(conf_matrix)\n",
    "print(f\"\\nAccuracy: {accuracy}\")\n",
    "\n",
    "# Calculate precision, recall, and F1-score for each category\n",
    "for i, category in enumerate(categories):\n",
    "    true_positives = conf_matrix[i][i]\n",
    "    false_positives = sum(conf_matrix[:, i]) - true_positives\n",
    "    false_negatives = sum(conf_matrix[i, :]) - true_positives\n",
    "\n",
    "    precision = true_positives / (true_positives + false_positives)\n",
    "    recall = true_positives / (true_positives + false_negatives)\n",
    "    f1_score = 2 * (precision * recall) / (precision + recall)\n",
    "\n",
    "    print(f\"\\nCategory: {category}\")\n",
    "    print(f\"Precision: {precision}\")\n",
    "    print(f\"Recall: {recall}\")\n",
    "    print(f\"F1-score: {f1_score}\")\n"
   ]
  },
  {
   "cell_type": "code",
   "execution_count": 8,
   "metadata": {},
   "outputs": [
    {
     "name": "stdout",
     "output_type": "stream",
     "text": [
      "Matching: 71 out of 94\n",
      "Accuracy: 75.53191489361703%\n"
     ]
    }
   ],
   "source": [
    "# Analysis for Alpaca-7B model\n",
    "human_outputs = json.load(open('dataset/human_annotations/zero_context/nq_llama2_70b_chat_answers.json'))\n",
    "model_outputs = json.load(open('dataset/nli_output/llama-70b_checker_final.json'))\n",
    "\n",
    "\n",
    "# Make an array of the form [triplet, model_output, human_output]\n",
    "final_array = []\n",
    "\n",
    "# Take the majority votes for the human outputs\n",
    "for model_output in model_outputs:\n",
    "    for human_output in human_outputs:\n",
    "        if model_output['id'] == human_output['id']:\n",
    "            model_final = [max(set(model_output[\"ys\"]), key = model_output[\"ys\"].count)]\n",
    "            human_final = [max(set([entry[\"human_label\"] for entry in human_output[\"claude2_response_kg\"]]), key = [entry[\"human_label\"] for entry in human_output[\"claude2_response_kg\"]].count)]\n",
    "\n",
    "            final_array.append([model_output[\"triplets\"], model_final, human_final])\n",
    "\n",
    "# Check if the models, human outputs are matching\n",
    "matching = 0\n",
    "\n",
    "for entry in final_array:\n",
    "    if entry[1] == entry[2]:\n",
    "        matching += 1\n",
    "\n",
    "print(f\"Matching: {matching} out of {len(final_array)}\")\n",
    "\n",
    "accuracy = matching * 100 / len(final_array)\n",
    "print(f\"Accuracy: {accuracy}%\")"
   ]
  },
  {
   "cell_type": "code",
   "execution_count": 9,
   "metadata": {},
   "outputs": [
    {
     "name": "stdout",
     "output_type": "stream",
     "text": [
      "['Neutral']\n",
      "['Contradiction']\n",
      "['Neutral']\n",
      "['Neutral']\n",
      "['Neutral']\n",
      "['Neutral']\n",
      "['Neutral']\n",
      "['Neutral']\n",
      "['Neutral']\n",
      "['Neutral']\n",
      "['Contradiction']\n",
      "['Neutral']\n",
      "['Entailment']\n",
      "['Neutral']\n",
      "['Neutral']\n",
      "['Neutral']\n",
      "['Contradiction']\n",
      "['Neutral']\n",
      "['Entailment']\n",
      "['Neutral']\n",
      "['Neutral']\n",
      "['Neutral']\n",
      "['Neutral']\n",
      "['Neutral']\n",
      "['Neutral']\n",
      "['Neutral']\n",
      "['Contradiction']\n",
      "['Contradiction']\n",
      "['Neutral']\n",
      "['Neutral']\n",
      "['Neutral']\n",
      "['Neutral']\n",
      "['Entailment']\n",
      "['Contradiction']\n",
      "['Contradiction']\n",
      "['Neutral']\n",
      "['Entailment']\n",
      "['Neutral']\n",
      "['Contradiction']\n",
      "['Neutral']\n",
      "['Entailment']\n",
      "['Neutral']\n",
      "['Neutral']\n",
      "['Neutral']\n",
      "['Neutral']\n",
      "['Contradiction']\n",
      "['Neutral']\n",
      "['Entailment']\n",
      "['Neutral']\n",
      "['Neutral']\n",
      "['Neutral']\n",
      "['Neutral']\n",
      "['Entailment']\n",
      "['Neutral']\n",
      "['Neutral']\n",
      "['Neutral']\n",
      "['Neutral']\n",
      "['Entailment']\n",
      "['Neutral']\n",
      "['Neutral']\n",
      "['Entailment']\n",
      "['Neutral']\n",
      "['Neutral']\n",
      "['Entailment']\n",
      "['Neutral']\n",
      "['Contradiction']\n",
      "['Entailment']\n",
      "['Neutral']\n",
      "['Neutral']\n",
      "['Neutral']\n",
      "['Neutral']\n",
      "['Neutral']\n",
      "['Neutral']\n",
      "['Entailment']\n",
      "['Neutral']\n",
      "['Neutral']\n",
      "['Neutral']\n",
      "['Neutral']\n",
      "['Entailment']\n",
      "['Neutral']\n",
      "['Neutral']\n",
      "['Neutral']\n",
      "['Neutral']\n",
      "['Neutral']\n",
      "['Neutral']\n",
      "['Neutral']\n",
      "['Entailment']\n",
      "['Neutral']\n",
      "['Neutral']\n",
      "['Neutral']\n",
      "['Entailment']\n",
      "['Neutral']\n",
      "['Neutral']\n",
      "['Neutral']\n",
      "Entailments: 15.957446808510639\n",
      "Contradictions: 10.638297872340425\n",
      "Neutrals: 73.40425531914893\n"
     ]
    }
   ],
   "source": [
    "# on the human annotated data count the number of entailmet=nts, neutral and contradiction\n",
    "entailments = 0\n",
    "contradictions = 0\n",
    "neutrals = 0\n",
    "\n",
    "for entry in final_array:\n",
    "    print(entry[2])\n",
    "    if entry[2] == [\"Entailment\"]:\n",
    "        entailments += 1\n",
    "    elif entry[2] == [\"Contradiction\"]:\n",
    "        contradictions += 1\n",
    "    else:\n",
    "        neutrals += 1\n",
    "\n",
    "print(f\"Entailments: {entailments*100/len(final_array)}\")\n",
    "print(f\"Contradictions: {contradictions*100/len(final_array)}\")\n",
    "print(f\"Neutrals: {neutrals*100/len(final_array)}\")\n"
   ]
  }
 ],
 "metadata": {
  "kernelspec": {
   "display_name": "Python 3",
   "language": "python",
   "name": "python3"
  },
  "language_info": {
   "codemirror_mode": {
    "name": "ipython",
    "version": 3
   },
   "file_extension": ".py",
   "mimetype": "text/x-python",
   "name": "python",
   "nbconvert_exporter": "python",
   "pygments_lexer": "ipython3",
   "version": "3.11.4"
  },
  "orig_nbformat": 4
 },
 "nbformat": 4,
 "nbformat_minor": 2
}
